{
 "cells": [
  {
   "cell_type": "code",
   "execution_count": 1,
   "metadata": {},
   "outputs": [],
   "source": [
    "import pandas as pd\n",
    "import numpy as np\n",
    "import matplotlib.pyplot as plt\n",
    "import seaborn as sns"
   ]
  },
  {
   "cell_type": "code",
   "execution_count": 2,
   "metadata": {},
   "outputs": [],
   "source": [
    "import statsmodels.api as sm\n",
    "from statsmodels.formula.api import logit, glm,ols\n",
    "from sklearn.model_selection import train_test_split\n",
    "from sklearn.preprocessing import StandardScaler, Normalizer\n",
    "from sklearn.model_selection import GridSearchCV\n",
    "from sklearn.linear_model import LogisticRegression\n",
    "from sklearn.tree import DecisionTreeClassifier\n",
    "from sklearn.neighbors import KNeighborsClassifier\n",
    "from sklearn.naive_bayes import GaussianNB\n",
    "from sklearn.feature_selection import SelectKBest, f_classif\n",
    "from sklearn.pipeline import Pipeline\n",
    "from sklearn.pipeline import make_pipeline\n",
    "from sklearn.feature_selection import chi2\n",
    "from sklearn.ensemble import StackingClassifier\n",
    "from sklearn.model_selection import KFold\n",
    "from sklearn.metrics import confusion_matrix, accuracy_score, roc_curve, classification_report\n"
   ]
  },
  {
   "cell_type": "code",
   "execution_count": 3,
   "metadata": {},
   "outputs": [],
   "source": [
    "heart = pd.read_csv(\"heart.csv\")"
   ]
  },
  {
   "cell_type": "code",
   "execution_count": 4,
   "metadata": {},
   "outputs": [],
   "source": [
    "heart = heart.drop(['thalach','slope'], axis=1)"
   ]
  },
  {
   "cell_type": "code",
   "execution_count": 5,
   "metadata": {},
   "outputs": [],
   "source": [
    "# Seperate the predictor and response variable\n",
    "\n",
    "x = heart.drop(['target'], axis=1)\n",
    "y = heart['target']"
   ]
  },
  {
   "cell_type": "code",
   "execution_count": 6,
   "metadata": {},
   "outputs": [],
   "source": [
    "# split the data with test = 30%, train = 70%\n",
    "X_train, X_test, y_train, y_test = train_test_split(x, y, test_size= 0.3)"
   ]
  },
  {
   "cell_type": "code",
   "execution_count": 7,
   "metadata": {},
   "outputs": [
    {
     "name": "stdout",
     "output_type": "stream",
     "text": [
      "confusion matrix\n",
      "[[150   3]\n",
      " [  4 151]]\n",
      "\n",
      "\n",
      "Accuracy of Decision Tree: 97.72727272727273 \n",
      "\n",
      "              precision    recall  f1-score   support\n",
      "\n",
      "           0       0.97      0.98      0.98       153\n",
      "           1       0.98      0.97      0.98       155\n",
      "\n",
      "    accuracy                           0.98       308\n",
      "   macro avg       0.98      0.98      0.98       308\n",
      "weighted avg       0.98      0.98      0.98       308\n",
      "\n"
     ]
    }
   ],
   "source": [
    "# implementing the decision tree\n",
    "\n",
    "model = DecisionTreeClassifier(criterion='entropy')\n",
    "\n",
    "fit_model = model.fit(X_train,y_train)\n",
    "pred_model = fit_model.predict(X_test)\n",
    "df_acc_scores = accuracy_score(y_test, pred_model)\n",
    "df_conf_matrix = confusion_matrix(y_test, pred_model)\n",
    "print(\"confusion matrix\")\n",
    "print(df_conf_matrix)\n",
    "print('\\n')\n",
    "print(\"Accuracy of Decision Tree:\", df_acc_scores*100,'\\n')\n",
    "print(classification_report(y_test, pred_model))"
   ]
  },
  {
   "cell_type": "code",
   "execution_count": 8,
   "metadata": {},
   "outputs": [
    {
     "name": "stdout",
     "output_type": "stream",
     "text": [
      "confusion matrix\n",
      "[[128  25]\n",
      " [ 28 127]]\n",
      "\n",
      "\n",
      "Accuracy of Logistic Regression:  82.79220779220779 \n",
      "\n",
      "              precision    recall  f1-score   support\n",
      "\n",
      "           0       0.82      0.84      0.83       153\n",
      "           1       0.84      0.82      0.83       155\n",
      "\n",
      "    accuracy                           0.83       308\n",
      "   macro avg       0.83      0.83      0.83       308\n",
      "weighted avg       0.83      0.83      0.83       308\n",
      "\n"
     ]
    }
   ],
   "source": [
    "model = LogisticRegression(max_iter = 1000)\n",
    "\n",
    "fit_model = model.fit(X_train, y_train)\n",
    "pred_model = fit_model.predict(X_test)\n",
    "df_acc_scores =accuracy_score(y_test, pred_model)\n",
    "df_conf_matrix = confusion_matrix(y_test, pred_model)\n",
    "print ('confusion matrix')\n",
    "print(df_conf_matrix)\n",
    "print('\\n')\n",
    "print(\"Accuracy of Logistic Regression: \", df_acc_scores*100, '\\n')\n",
    "print(classification_report(y_test,pred_model))"
   ]
  },
  {
   "cell_type": "code",
   "execution_count": 9,
   "metadata": {},
   "outputs": [
    {
     "name": "stdout",
     "output_type": "stream",
     "text": [
      "confusion matrix\n",
      "[[106  47]\n",
      " [ 50 105]]\n",
      "\n",
      "\n",
      "Accuracy of KNN:  68.5064935064935 \n",
      "\n",
      "              precision    recall  f1-score   support\n",
      "\n",
      "           0       0.68      0.69      0.69       153\n",
      "           1       0.69      0.68      0.68       155\n",
      "\n",
      "    accuracy                           0.69       308\n",
      "   macro avg       0.69      0.69      0.69       308\n",
      "weighted avg       0.69      0.69      0.69       308\n",
      "\n"
     ]
    }
   ],
   "source": [
    "model = KNeighborsClassifier()\n",
    "\n",
    "fit_model = model.fit(X_train, y_train)\n",
    "pred_model = fit_model.predict(X_test)\n",
    "df_acc_scores =accuracy_score(y_test, pred_model)\n",
    "df_conf_matrix = confusion_matrix(y_test, pred_model)\n",
    "print ('confusion matrix')\n",
    "print(df_conf_matrix)\n",
    "print('\\n')\n",
    "print(\"Accuracy of KNN: \", df_acc_scores*100, '\\n')\n",
    "print(classification_report(y_test,pred_model))"
   ]
  },
  {
   "cell_type": "code",
   "execution_count": 10,
   "metadata": {},
   "outputs": [
    {
     "name": "stdout",
     "output_type": "stream",
     "text": [
      "confusion matrix\n",
      "[[127  26]\n",
      " [ 29 126]]\n",
      "\n",
      "\n",
      "Accuracy of Naive Bayes :  82.14285714285714 \n",
      "\n",
      "              precision    recall  f1-score   support\n",
      "\n",
      "           0       0.81      0.83      0.82       153\n",
      "           1       0.83      0.81      0.82       155\n",
      "\n",
      "    accuracy                           0.82       308\n",
      "   macro avg       0.82      0.82      0.82       308\n",
      "weighted avg       0.82      0.82      0.82       308\n",
      "\n"
     ]
    }
   ],
   "source": [
    "model = GaussianNB()\n",
    "\n",
    "fit_model = model.fit(X_train, y_train)\n",
    "pred_model = fit_model.predict(X_test)\n",
    "df_acc_scores =accuracy_score(y_test, pred_model)\n",
    "df_conf_matrix = confusion_matrix(y_test, pred_model)\n",
    "print ('confusion matrix')\n",
    "print(df_conf_matrix)\n",
    "print('\\n')\n",
    "print(\"Accuracy of Naive Bayes : \", df_acc_scores*100, '\\n')\n",
    "print(classification_report(y_test,pred_model))"
   ]
  },
  {
   "cell_type": "code",
   "execution_count": 11,
   "metadata": {},
   "outputs": [],
   "source": [
    "heart['age'] = pd.qcut(heart['age'], q=4)\n",
    "heart['trestbps'] = pd.qcut(heart['trestbps'], q=4)\n",
    "heart['chol'] = pd.qcut(heart['chol'], q=4)\n",
    "heart['oldpeak'] = pd.qcut(heart['oldpeak'], q=2)"
   ]
  },
  {
   "cell_type": "code",
   "execution_count": 12,
   "metadata": {},
   "outputs": [],
   "source": [
    "from sklearn.preprocessing import LabelEncoder\n",
    "le = LabelEncoder()\n",
    "\n",
    "encoded_age = le.fit_transform(heart['age'])\n",
    "heart['age'] = encoded_age\n",
    "\n",
    "encoded_trest = le.fit_transform(heart['trestbps'])\n",
    "heart['trestbps'] = encoded_trest\n",
    "\n",
    "encoded_chol = le.fit_transform(heart['chol'])\n",
    "heart['chol'] = encoded_chol\n",
    "\n",
    "encoded_old = le.fit_transform(heart['oldpeak'])\n",
    "heart['oldpeak'] = encoded_old"
   ]
  },
  {
   "cell_type": "code",
   "execution_count": 13,
   "metadata": {},
   "outputs": [],
   "source": [
    "x = heart.drop(['target'], axis=1)\n",
    "y = heart['target']\n",
    "\n",
    "#split the data with test = 30%, train = 70%\n",
    "X_train, X_test, y_train, y_test = train_test_split(x, y, test_size = 0.3)"
   ]
  },
  {
   "cell_type": "code",
   "execution_count": 14,
   "metadata": {},
   "outputs": [
    {
     "name": "stdout",
     "output_type": "stream",
     "text": [
      "confussion matrix\n",
      "[[112  35]\n",
      " [ 18 143]]\n",
      "\n",
      "\n",
      "Accuracy of logistic Regression:  82.79220779220779 \n",
      "\n",
      "              precision    recall  f1-score   support\n",
      "\n",
      "           0       0.86      0.76      0.81       147\n",
      "           1       0.80      0.89      0.84       161\n",
      "\n",
      "    accuracy                           0.83       308\n",
      "   macro avg       0.83      0.83      0.83       308\n",
      "weighted avg       0.83      0.83      0.83       308\n",
      "\n",
      "best params:  {'C': 0.08858667904100823}\n"
     ]
    }
   ],
   "source": [
    "model  = LogisticRegression(max_iter =1000)\n",
    "\n",
    "param_grid = {'C': np.logspace(-4,4,20)}\n",
    "\n",
    "search = GridSearchCV(model, param_grid, scoring ='accuracy', cv=10, refit = True)\n",
    "fit_model = search.fit(X_train, y_train)\n",
    "best_model = fit_model.best_estimator_\n",
    "pred_model = best_model.predict(X_test)\n",
    "df_acc_scores = accuracy_score(y_test, pred_model)\n",
    "df_conf_matrix = confusion_matrix(y_test, pred_model)\n",
    "print('confussion matrix')\n",
    "print(df_conf_matrix)\n",
    "print('\\n')\n",
    "print(\"Accuracy of logistic Regression: \", df_acc_scores* 100, '\\n')\n",
    "print(classification_report(y_test, pred_model))\n",
    "print('best params: ', fit_model.best_params_)"
   ]
  },
  {
   "cell_type": "code",
   "execution_count": 16,
   "metadata": {},
   "outputs": [
    {
     "name": "stdout",
     "output_type": "stream",
     "text": [
      "confussion matrix\n",
      "[[141   6]\n",
      " [  0 161]]\n",
      "\n",
      "\n",
      "Accuracy of Decision Tree Classifier:  98.05194805194806 \n",
      "\n",
      "              precision    recall  f1-score   support\n",
      "\n",
      "           0       1.00      0.96      0.98       147\n",
      "           1       0.96      1.00      0.98       161\n",
      "\n",
      "    accuracy                           0.98       308\n",
      "   macro avg       0.98      0.98      0.98       308\n",
      "weighted avg       0.98      0.98      0.98       308\n",
      "\n",
      "best max depth:  {'max_depth': 9}\n"
     ]
    }
   ],
   "source": [
    "model = DecisionTreeClassifier(criterion = 'entropy')\n",
    "\n",
    "max_depth = range (1,11,2)\n",
    "param_grid = dict(max_depth = max_depth)\n",
    "search = GridSearchCV(model, param_grid, scoring='accuracy', cv = 10, refit = True )\n",
    "fit_model = search.fit(X_train, y_train)\n",
    "best_model = fit_model.best_estimator_\n",
    "pred_model = best_model.predict(X_test)\n",
    "df_acc_scores = accuracy_score(y_test, pred_model)\n",
    "df_conf_matrix = confusion_matrix(y_test, pred_model)\n",
    "print('confusion matrix')\n",
    "print(df_conf_matrix)\n",
    "print('\\n')\n",
    "print(\"Accuracy of Decision Tree Classifier: \", df_acc_scores* 100, '\\n')\n",
    "print(classification_report(y_test, pred_model))\n",
    "print('best max depth: ', fit_model.best_params_)"
   ]
  },
  {
   "cell_type": "code",
   "execution_count": 17,
   "metadata": {},
   "outputs": [
    {
     "name": "stdout",
     "output_type": "stream",
     "text": [
      "confusion matrix\n",
      "[[147   0]\n",
      " [  0 161]]\n",
      "\n",
      "\n",
      "Accuracy of KNN Classifier:  100.0 \n",
      "\n",
      "              precision    recall  f1-score   support\n",
      "\n",
      "           0       1.00      1.00      1.00       147\n",
      "           1       1.00      1.00      1.00       161\n",
      "\n",
      "    accuracy                           1.00       308\n",
      "   macro avg       1.00      1.00      1.00       308\n",
      "weighted avg       1.00      1.00      1.00       308\n",
      "\n",
      "best K neighbors:  {'n_neighbors': 1}\n"
     ]
    }
   ],
   "source": [
    "model = KNeighborsClassifier()\n",
    "\n",
    "k_range = list(range(1, 31))\n",
    "param_grid = dict(n_neighbors = k_range)\n",
    "\n",
    "search = GridSearchCV(model, param_grid, cv=10, scoring='accuracy', refit=True)\n",
    "\n",
    "fit_model = search.fit(X_train, y_train)\n",
    "best_model = fit_model.best_estimator_\n",
    "pred_model = best_model.predict(X_test)\n",
    "df_acc_scores = accuracy_score(y_test, pred_model)\n",
    "df_conf_matrix = confusion_matrix(y_test, pred_model)\n",
    "print('confusion matrix')\n",
    "print(df_conf_matrix)\n",
    "print('\\n')\n",
    "print(\"Accuracy of KNN Classifier: \", df_acc_scores* 100, '\\n')\n",
    "print(classification_report(y_test, pred_model))\n",
    "print('best K neighbors: ', fit_model.best_params_)"
   ]
  },
  {
   "cell_type": "code",
   "execution_count": 18,
   "metadata": {},
   "outputs": [
    {
     "name": "stdout",
     "output_type": "stream",
     "text": [
      "confusion matrix\n",
      "[[112  35]\n",
      " [ 20 141]]\n",
      "\n",
      "\n",
      "Accuracy of Naive Bayes:  82.14285714285714 \n",
      "\n",
      "              precision    recall  f1-score   support\n",
      "\n",
      "           0       0.85      0.76      0.80       147\n",
      "           1       0.80      0.88      0.84       161\n",
      "\n",
      "    accuracy                           0.82       308\n",
      "   macro avg       0.82      0.82      0.82       308\n",
      "weighted avg       0.82      0.82      0.82       308\n",
      "\n",
      "best params:  {'var_smoothing': 0.0533669923120631}\n"
     ]
    }
   ],
   "source": [
    "model = GaussianNB()\n",
    "\n",
    "param_grid = {'var_smoothing':np.logspace(0,-9,num=100)}\n",
    "\n",
    "search = GridSearchCV(model,param_grid, cv=10, scoring='accuracy', refit=True)\n",
    "\n",
    "fit_model = search.fit(X_train, y_train)\n",
    "best_model = fit_model.best_estimator_\n",
    "pred_model = best_model.predict(X_test)\n",
    "df_acc_scores = accuracy_score(y_test, pred_model)\n",
    "df_conf_matrix = confusion_matrix(y_test, pred_model)\n",
    "print('confusion matrix')\n",
    "print(df_conf_matrix)\n",
    "print('\\n')\n",
    "print(\"Accuracy of Naive Bayes: \", df_acc_scores* 100, '\\n')\n",
    "print(classification_report(y_test, pred_model))\n",
    "print('best params: ', fit_model.best_params_)"
   ]
  },
  {
   "cell_type": "code",
   "execution_count": 19,
   "metadata": {},
   "outputs": [],
   "source": [
    "pipe = make_pipeline(SelectKBest(score_func = chi2), LogisticRegression(max_iter=1000))\n",
    "params = {'selectkbest__k':[1,2,3,4,5,6]}\n",
    "\n",
    "search = GridSearchCV(pipe, params, cv=10, scoring='accuracy', refit = True)\n",
    "\n",
    "fit_model = search.fit(X_train, y_train)"
   ]
  },
  {
   "cell_type": "code",
   "execution_count": 21,
   "metadata": {},
   "outputs": [
    {
     "data": {
      "text/plain": [
       "{'selectkbest__k': 3}"
      ]
     },
     "execution_count": 21,
     "metadata": {},
     "output_type": "execute_result"
    }
   ],
   "source": [
    "fit_model.best_params_"
   ]
  },
  {
   "cell_type": "code",
   "execution_count": 22,
   "metadata": {},
   "outputs": [
    {
     "data": {
      "text/plain": [
       "{'selectkbest__k': 6}"
      ]
     },
     "execution_count": 22,
     "metadata": {},
     "output_type": "execute_result"
    }
   ],
   "source": [
    "pipe = make_pipeline(SelectKBest(score_func = chi2), DecisionTreeClassifier(criterion='entropy'))\n",
    "params = {'selectkbest__k':[1,2,3,4,5,6]}\n",
    "\n",
    "search = GridSearchCV(pipe, params, cv=10, scoring='accuracy', refit = True)\n",
    "\n",
    "fit_model = search.fit(X_train, y_train)\n",
    "\n",
    "fit_model.best_params_"
   ]
  },
  {
   "cell_type": "code",
   "execution_count": 23,
   "metadata": {},
   "outputs": [
    {
     "data": {
      "text/plain": [
       "{'selectkbest__k': 6}"
      ]
     },
     "execution_count": 23,
     "metadata": {},
     "output_type": "execute_result"
    }
   ],
   "source": [
    "pipe = make_pipeline(SelectKBest(score_func = chi2), KNeighborsClassifier())\n",
    "params = {'selectkbest__k':[1,2,3,4,5,6]}\n",
    "\n",
    "search = GridSearchCV(pipe, params, cv=10, scoring='accuracy', refit = True)\n",
    "\n",
    "fit_model = search.fit(X_train, y_train)\n",
    "\n",
    "fit_model.best_params_"
   ]
  },
  {
   "cell_type": "code",
   "execution_count": 24,
   "metadata": {},
   "outputs": [
    {
     "data": {
      "text/plain": [
       "{'selectkbest__k': 5}"
      ]
     },
     "execution_count": 24,
     "metadata": {},
     "output_type": "execute_result"
    }
   ],
   "source": [
    "pipe = make_pipeline(SelectKBest(score_func = chi2), GaussianNB())\n",
    "params = {'selectkbest__k':[1,2,3,4,5,6]}\n",
    "\n",
    "search = GridSearchCV(pipe, params, cv=10, scoring='accuracy', refit = True)\n",
    "\n",
    "fit_model = search.fit(X_train, y_train)\n",
    "\n",
    "fit_model.best_params_"
   ]
  },
  {
   "cell_type": "code",
   "execution_count": 25,
   "metadata": {},
   "outputs": [],
   "source": [
    "best_features = SelectKBest(score_func = chi2, k=6)\n",
    "fit = best_features.fit(X_train, y_train)\n",
    "\n",
    "filter = best_features.get_support()\n",
    "cols = X_train.columns\n",
    "col = cols[filter]\n",
    "score = fit.scores_[filter]"
   ]
  },
  {
   "cell_type": "code",
   "execution_count": 27,
   "metadata": {},
   "outputs": [
    {
     "data": {
      "text/html": [
       "<div>\n",
       "<style scoped>\n",
       "    .dataframe tbody tr th:only-of-type {\n",
       "        vertical-align: middle;\n",
       "    }\n",
       "\n",
       "    .dataframe tbody tr th {\n",
       "        vertical-align: top;\n",
       "    }\n",
       "\n",
       "    .dataframe thead th {\n",
       "        text-align: right;\n",
       "    }\n",
       "</style>\n",
       "<table border=\"1\" class=\"dataframe\">\n",
       "  <thead>\n",
       "    <tr style=\"text-align: right;\">\n",
       "      <th></th>\n",
       "      <th>Attributes</th>\n",
       "      <th>Chi2 Scores</th>\n",
       "    </tr>\n",
       "  </thead>\n",
       "  <tbody>\n",
       "    <tr>\n",
       "      <th>0</th>\n",
       "      <td>cp</td>\n",
       "      <td>152.872775</td>\n",
       "    </tr>\n",
       "    <tr>\n",
       "      <th>1</th>\n",
       "      <td>ca</td>\n",
       "      <td>122.511926</td>\n",
       "    </tr>\n",
       "    <tr>\n",
       "      <th>2</th>\n",
       "      <td>exang</td>\n",
       "      <td>99.188691</td>\n",
       "    </tr>\n",
       "    <tr>\n",
       "      <th>3</th>\n",
       "      <td>oldpeak</td>\n",
       "      <td>74.737225</td>\n",
       "    </tr>\n",
       "    <tr>\n",
       "      <th>4</th>\n",
       "      <td>age</td>\n",
       "      <td>39.448326</td>\n",
       "    </tr>\n",
       "    <tr>\n",
       "      <th>5</th>\n",
       "      <td>chol</td>\n",
       "      <td>19.546606</td>\n",
       "    </tr>\n",
       "  </tbody>\n",
       "</table>\n",
       "</div>"
      ],
      "text/plain": [
       "  Attributes  Chi2 Scores\n",
       "0         cp   152.872775\n",
       "1         ca   122.511926\n",
       "2      exang    99.188691\n",
       "3    oldpeak    74.737225\n",
       "4        age    39.448326\n",
       "5       chol    19.546606"
      ]
     },
     "execution_count": 27,
     "metadata": {},
     "output_type": "execute_result"
    }
   ],
   "source": [
    "dictt = {}\n",
    "for i in range(len(col)):\n",
    "    dictt[col[i]] = score[i]\n",
    "    \n",
    "pdd = pd.DataFrame()\n",
    "pdd['Attributes'] = dictt.keys()\n",
    "pdd['Chi2 Scores'] = dictt.values()\n",
    "\n",
    "pdd_sort = pdd.sort_values(by=['Chi2 Scores'], ascending = False)\n",
    "\n",
    "pdp = pdd_sort.set_index('Attributes')\n",
    "chi_scores = pdp.reset_index()\n",
    "chi_scores"
   ]
  },
  {
   "cell_type": "code",
   "execution_count": 28,
   "metadata": {},
   "outputs": [],
   "source": [
    "x = heart[['ca', 'cp', 'exang', 'oldpeak', 'age', 'sex']]\n",
    "y = heart['target']\n",
    "\n",
    "X_train, X_test, y_train, y_test = train_test_split(x, y, test_size = 0.3)"
   ]
  },
  {
   "cell_type": "code",
   "execution_count": 29,
   "metadata": {},
   "outputs": [
    {
     "name": "stdout",
     "output_type": "stream",
     "text": [
      "confusion matrix\n",
      "[[119  34]\n",
      " [ 33 122]]\n",
      "\n",
      "\n",
      "Accuracy of Logistic Regression:  78.24675324675324 \n",
      "\n",
      "              precision    recall  f1-score   support\n",
      "\n",
      "           0       0.78      0.78      0.78       153\n",
      "           1       0.78      0.79      0.78       155\n",
      "\n",
      "    accuracy                           0.78       308\n",
      "   macro avg       0.78      0.78      0.78       308\n",
      "weighted avg       0.78      0.78      0.78       308\n",
      "\n",
      "best params:  {'C': 1.623776739188721}\n"
     ]
    }
   ],
   "source": [
    "model = LogisticRegression(max_iter = 1000)\n",
    "\n",
    "param_grid = {'C': np.logspace(-4, 4, 20)}\n",
    "\n",
    "search = GridSearchCV(model,param_grid, cv=10, scoring='accuracy', refit=True)\n",
    "\n",
    "fit_model = search.fit(X_train, y_train)\n",
    "best_model = fit_model.best_estimator_\n",
    "pred_model = best_model.predict(X_test)\n",
    "df_acc_scores = accuracy_score(y_test, pred_model)\n",
    "df_conf_matrix = confusion_matrix(y_test, pred_model)\n",
    "print('confusion matrix')\n",
    "print(df_conf_matrix)\n",
    "print('\\n')\n",
    "print(\"Accuracy of Logistic Regression: \", df_acc_scores* 100, '\\n')\n",
    "print(classification_report(y_test, pred_model))\n",
    "print('best params: ', fit_model.best_params_)"
   ]
  },
  {
   "cell_type": "code",
   "execution_count": 30,
   "metadata": {},
   "outputs": [
    {
     "name": "stdout",
     "output_type": "stream",
     "text": [
      "confusion matrix\n",
      "[[135  18]\n",
      " [ 27 128]]\n",
      "\n",
      "\n",
      "Accuracy of Decision Tree Classifier:  85.3896103896104 \n",
      "\n",
      "              precision    recall  f1-score   support\n",
      "\n",
      "           0       0.83      0.88      0.86       153\n",
      "           1       0.88      0.83      0.85       155\n",
      "\n",
      "    accuracy                           0.85       308\n",
      "   macro avg       0.86      0.85      0.85       308\n",
      "weighted avg       0.86      0.85      0.85       308\n",
      "\n",
      "best max depth:  {'max_depth': 9}\n"
     ]
    }
   ],
   "source": [
    "model = DecisionTreeClassifier(criterion = 'entropy')\n",
    "max_depth = range(1, 11, 2)\n",
    "\n",
    "param_grid = dict(max_depth=max_depth)\n",
    "\n",
    "search = GridSearchCV(model,param_grid, cv=10, scoring='accuracy', refit=True)\n",
    "\n",
    "fit_model = search.fit(X_train, y_train)\n",
    "best_model = fit_model.best_estimator_\n",
    "pred_model = best_model.predict(X_test)\n",
    "df_acc_scores = accuracy_score(y_test, pred_model)\n",
    "df_conf_matrix = confusion_matrix(y_test, pred_model)\n",
    "print('confusion matrix')\n",
    "print(df_conf_matrix)\n",
    "print('\\n')\n",
    "print(\"Accuracy of Decision Tree Classifier: \", df_acc_scores* 100, '\\n')\n",
    "print(classification_report(y_test, pred_model))\n",
    "print('best max depth: ', fit_model.best_params_)"
   ]
  },
  {
   "cell_type": "code",
   "execution_count": 31,
   "metadata": {},
   "outputs": [
    {
     "name": "stdout",
     "output_type": "stream",
     "text": [
      "confusion matrix\n",
      "[[133  20]\n",
      " [ 17 138]]\n",
      "\n",
      "\n",
      "Accuracy of KNN Classifier:  87.98701298701299 \n",
      "\n",
      "              precision    recall  f1-score   support\n",
      "\n",
      "           0       0.89      0.87      0.88       153\n",
      "           1       0.87      0.89      0.88       155\n",
      "\n",
      "    accuracy                           0.88       308\n",
      "   macro avg       0.88      0.88      0.88       308\n",
      "weighted avg       0.88      0.88      0.88       308\n",
      "\n",
      "best K neighbors:  {'n_neighbors': 1}\n"
     ]
    }
   ],
   "source": [
    "model = KNeighborsClassifier()\n",
    "\n",
    "k_range = list(range(1, 31))\n",
    "param_grid = dict(n_neighbors=k_range)\n",
    "\n",
    "search = GridSearchCV(model,param_grid, cv=10, scoring='accuracy', refit=True)\n",
    "\n",
    "fit_model = search.fit(X_train, y_train)\n",
    "best_model = fit_model.best_estimator_\n",
    "pred_model = best_model.predict(X_test)\n",
    "df_acc_scores = accuracy_score(y_test, pred_model)\n",
    "df_conf_matrix = confusion_matrix(y_test, pred_model)\n",
    "print('confusion matrix')\n",
    "print(df_conf_matrix)\n",
    "print('\\n')\n",
    "print(\"Accuracy of KNN Classifier: \", df_acc_scores* 100, '\\n')\n",
    "print(classification_report(y_test, pred_model))\n",
    "print('best K neighbors: ', fit_model.best_params_)"
   ]
  },
  {
   "cell_type": "code",
   "execution_count": 32,
   "metadata": {},
   "outputs": [
    {
     "name": "stdout",
     "output_type": "stream",
     "text": [
      "confusion matrix\n",
      "[[116  37]\n",
      " [ 33 122]]\n",
      "\n",
      "\n",
      "Accuracy of Naive Bayes:  77.27272727272727 \n",
      "\n",
      "              precision    recall  f1-score   support\n",
      "\n",
      "           0       0.78      0.76      0.77       153\n",
      "           1       0.77      0.79      0.78       155\n",
      "\n",
      "    accuracy                           0.77       308\n",
      "   macro avg       0.77      0.77      0.77       308\n",
      "weighted avg       0.77      0.77      0.77       308\n",
      "\n",
      "best params:  {'var_smoothing': 0.04328761281083057}\n"
     ]
    }
   ],
   "source": [
    "model = GaussianNB()\n",
    "\n",
    "param_grid = {'var_smoothing':np.logspace(0,-9,num=100)}\n",
    "\n",
    "search = GridSearchCV(model,param_grid, cv=10, scoring='accuracy', refit=True)\n",
    "\n",
    "fit_model = search.fit(X_train, y_train)\n",
    "best_model = fit_model.best_estimator_\n",
    "pred_model = best_model.predict(X_test)\n",
    "df_acc_scores = accuracy_score(y_test, pred_model)\n",
    "df_conf_matrix = confusion_matrix(y_test, pred_model)\n",
    "print('confusion matrix')\n",
    "print(df_conf_matrix)\n",
    "print('\\n')\n",
    "print(\"Accuracy of Naive Bayes: \", df_acc_scores* 100, '\\n')\n",
    "print(classification_report(y_test, pred_model))\n",
    "print('best params: ', fit_model.best_params_)"
   ]
  },
  {
   "cell_type": "code",
   "execution_count": 33,
   "metadata": {},
   "outputs": [
    {
     "data": {
      "text/plain": [
       "array([[140,  13],\n",
       "       [  3, 152]])"
      ]
     },
     "execution_count": 33,
     "metadata": {},
     "output_type": "execute_result"
    }
   ],
   "source": [
    "con_matrix_pred = np.array([[140,13],[3,152]])\n",
    "con_matrix_pred"
   ]
  },
  {
   "cell_type": "code",
   "execution_count": 37,
   "metadata": {},
   "outputs": [
    {
     "data": {
      "image/png": "[encoded data removed]",
      "text/plain": [
       "<Figure size 100x100 with 1 Axes>"
      ]
     },
     "metadata": {},
     "output_type": "display_data"
    }
   ],
   "source": [
    "plt.style.use('default')\n",
    "fig,ax = plt.subplots(figsize=(1,1))\n",
    "ax.matshow(con_matrix_pred, cmap=plt.cm.Greys, alpha= 0.7)\n",
    "for i in range (con_matrix_pred.shape[0]):\n",
    "    for j in range(con_matrix_pred.shape[1]):\n",
    "        ax.text(x = j, y=i, s= con_matrix_pred[i,j], va='center',ha='center', size='large')\n",
    "plt.xlabel ('Predicted', fontsize = 12)\n",
    "plt.ylabel ('Actual', fontsize = 12)\n",
    "plt.title('Confusion Matrix', fontsize=12)\n",
    "plt.show()"
   ]
  },
  {
   "cell_type": "code",
   "execution_count": null,
   "metadata": {},
   "outputs": [],
   "source": []
  }
 ],
 "metadata": {
  "kernelspec": {
   "display_name": "Python 3",
   "language": "python",
   "name": "python3"
  },
  "language_info": {
   "codemirror_mode": {
    "name": "ipython",
    "version": 3
   },
   "file_extension": ".py",
   "mimetype": "text/x-python",
   "name": "python",
   "nbconvert_exporter": "python",
   "pygments_lexer": "ipython3",
   "version": "3.8.5"
  }
 },
 "nbformat": 4,
 "nbformat_minor": 4
}
